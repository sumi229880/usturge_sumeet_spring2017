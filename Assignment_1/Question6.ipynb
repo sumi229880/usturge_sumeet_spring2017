{
 "cells": [
  {
   "cell_type": "markdown",
   "metadata": {},
   "source": [
    "# Question 6\n",
    "# Find out unique words president used in their speech"
   ]
  },
  {
   "cell_type": "code",
   "execution_count": 1,
   "metadata": {
    "collapsed": false
   },
   "outputs": [],
   "source": [
    "from nltk.corpus import inaugural\n",
    "file_names = inaugural.fileids()"
   ]
  },
  {
   "cell_type": "code",
   "execution_count": 6,
   "metadata": {
    "collapsed": false
   },
   "outputs": [
    {
     "name": "stdout",
     "output_type": "stream",
     "text": [
      "Total number of unique words by president Washington in year 1789 :~ 593\n",
      "Total number of unique words by president Washington in year 1793 :~ 90\n",
      "Total number of unique words by president Adams in year 1797 :~ 794\n",
      "Total number of unique words by president Jefferson in year 1801 :~ 679\n",
      "Total number of unique words by president Jefferson in year 1805 :~ 777\n",
      "Total number of unique words by president Madison in year 1809 :~ 521\n",
      "Total number of unique words by president Madison in year 1813 :~ 518\n",
      "Total number of unique words by president Monroe in year 1817 :~ 980\n",
      "Total number of unique words by president Monroe in year 1821 :~ 1193\n",
      "Total number of unique words by president Adams in year 1825 :~ 963\n",
      "Total number of unique words by president Jackson in year 1829 :~ 500\n",
      "Total number of unique words by president Jackson in year 1833 :~ 474\n",
      "Total number of unique words by president VanBuren in year 1837 :~ 1252\n",
      "Total number of unique words by president Harrison in year 1841 :~ 1800\n",
      "Total number of unique words by president Polk in year 1845 :~ 1256\n",
      "Total number of unique words by president Taylor in year 1849 :~ 481\n",
      "Total number of unique words by president Pierce in year 1853 :~ 1114\n",
      "Total number of unique words by president Buchanan in year 1857 :~ 890\n",
      "Total number of unique words by president Lincoln in year 1861 :~ 1005\n",
      "Total number of unique words by president Lincoln in year 1865 :~ 335\n",
      "Total number of unique words by president Grant in year 1869 :~ 466\n",
      "Total number of unique words by president Grant in year 1873 :~ 520\n",
      "Total number of unique words by president Hayes in year 1877 :~ 798\n",
      "Total number of unique words by president Garfield in year 1881 :~ 965\n",
      "Total number of unique words by president Cleveland in year 1885 :~ 642\n",
      "Total number of unique words by president Harrison in year 1889 :~ 1298\n",
      "Total number of unique words by president Cleveland in year 1893 :~ 794\n",
      "Total number of unique words by president McKinley in year 1897 :~ 1185\n",
      "Total number of unique words by president McKinley in year 1901 :~ 807\n",
      "Total number of unique words by president Roosevelt in year 1905 :~ 383\n",
      "Total number of unique words by president Taft in year 1909 :~ 1372\n",
      "Total number of unique words by president Wilson in year 1913 :~ 627\n",
      "Total number of unique words by president Wilson in year 1917 :~ 523\n",
      "Total number of unique words by president Harding in year 1921 :~ 1117\n",
      "Total number of unique words by president Coolidge in year 1925 :~ 1159\n",
      "Total number of unique words by president Hoover in year 1929 :~ 992\n",
      "Total number of unique words by president Roosevelt in year 1933 :~ 709\n",
      "Total number of unique words by president Roosevelt in year 1937 :~ 684\n",
      "Total number of unique words by president Roosevelt in year 1941 :~ 490\n",
      "Total number of unique words by president Roosevelt in year 1945 :~ 259\n",
      "Total number of unique words by president Truman in year 1949 :~ 739\n",
      "Total number of unique words by president Eisenhower in year 1953 :~ 845\n",
      "Total number of unique words by president Eisenhower in year 1957 :~ 585\n",
      "Total number of unique words by president Kennedy in year 1961 :~ 532\n",
      "Total number of unique words by president Johnson in year 1965 :~ 524\n",
      "Total number of unique words by president Nixon in year 1969 :~ 703\n",
      "Total number of unique words by president Nixon in year 1973 :~ 504\n",
      "Total number of unique words by president Carter in year 1977 :~ 490\n",
      "Total number of unique words by president Reagan in year 1981 :~ 841\n",
      "Total number of unique words by president Reagan in year 1985 :~ 853\n",
      "Total number of unique words by president Bush in year 1989 :~ 743\n",
      "Total number of unique words by president Clinton in year 1993 :~ 595\n",
      "Total number of unique words by president Clinton in year 1997 :~ 713\n",
      "Total number of unique words by president Bush in year 2001 :~ 583\n",
      "Total number of unique words by president Bush in year 2005 :~ 731\n",
      "Total number of unique words by president Obama in year 2009 :~ 889\n"
     ]
    }
   ],
   "source": [
    "def txt(in_f):\n",
    "    total_word = inaugural.words(in_f)\n",
    "    display(total_word,in_f)\n",
    "\n",
    "#function to calculate unique words    \n",
    "def display(words,file_name):\n",
    "    l = []\n",
    "    for x in words:\n",
    "        if x.isalpha():\n",
    "            l.append(x.lower())\n",
    "    uni = set(l)\n",
    "#     print(file_name[:-4]+':')\n",
    "    print(\"Total number of unique words by president \" + file_name[5:-4] + \" in year \" + file_name[:4] + \" :~ \" + str(len(uni)))    \n",
    "    \n",
    "for single_f in file_names:\n",
    "    txt(single_f)"
   ]
  }
 ],
 "metadata": {
  "anaconda-cloud": {},
  "kernelspec": {
   "display_name": "Python [conda root]",
   "language": "python",
   "name": "conda-root-py"
  },
  "language_info": {
   "codemirror_mode": {
    "name": "ipython",
    "version": 3
   },
   "file_extension": ".py",
   "mimetype": "text/x-python",
   "name": "python",
   "nbconvert_exporter": "python",
   "pygments_lexer": "ipython3",
   "version": "3.5.2"
  }
 },
 "nbformat": 4,
 "nbformat_minor": 1
}
