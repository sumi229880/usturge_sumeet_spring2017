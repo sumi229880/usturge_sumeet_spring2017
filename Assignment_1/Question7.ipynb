{
 "cells": [
  {
   "cell_type": "markdown",
   "metadata": {},
   "source": [
    "# Question 7\n",
    "# Use Name corpus, calculate the probability of a name being of a male or              female base on the last character(s) of name.\n"
   ]
  },
  {
   "cell_type": "code",
   "execution_count": 1,
   "metadata": {
    "collapsed": false
   },
   "outputs": [
    {
     "data": {
      "text/plain": [
       "['female.txt', 'male.txt']"
      ]
     },
     "execution_count": 1,
     "metadata": {},
     "output_type": "execute_result"
    }
   ],
   "source": [
    "from nltk.corpus import names\n",
    "names.fileids()"
   ]
  },
  {
   "cell_type": "code",
   "execution_count": 2,
   "metadata": {
    "collapsed": false
   },
   "outputs": [
    {
     "name": "stdout",
     "output_type": "stream",
     "text": [
      "5001\n",
      "2943\n",
      "7944\n"
     ]
    }
   ],
   "source": [
    "f_names = names.words('female.txt')\n",
    "m_names = names.words('male.txt')\n",
    "all_names = (f_names + m_names)\n",
    "print(len(f_names))\n",
    "print(len(m_names))\n",
    "print(len(all_names))"
   ]
  },
  {
   "cell_type": "code",
   "execution_count": 4,
   "metadata": {
    "collapsed": false
   },
   "outputs": [
    {
     "name": "stdout",
     "output_type": "stream",
     "text": [
      "Proablity of names end with a\n",
      "M : 2%\n",
      "F : 98%\n",
      "Proablity of names end with b\n",
      "M : 70%\n",
      "F : 30%\n",
      "Proablity of names end with c\n",
      "M : 100%\n",
      "F : 0%\n",
      "Proablity of names end with d\n",
      "M : 85%\n",
      "F : 15%\n",
      "Proablity of names end with e\n",
      "M : 25%\n",
      "F : 75%\n",
      "Proablity of names end with f\n",
      "M : 93%\n",
      "F : 7%\n",
      "Proablity of names end with g\n",
      "M : 76%\n",
      "F : 24%\n",
      "Proablity of names end with h\n",
      "M : 47%\n",
      "F : 53%\n",
      "Proablity of names end with i\n",
      "M : 14%\n",
      "F : 86%\n",
      "Proablity of names end with j\n",
      "M : 75%\n",
      "F : 25%\n",
      "Proablity of names end with k\n",
      "M : 96%\n",
      "F : 4%\n",
      "Proablity of names end with l\n",
      "M : 51%\n",
      "F : 49%\n",
      "Proablity of names end with m\n",
      "M : 84%\n",
      "F : 16%\n",
      "Proablity of names end with n\n",
      "M : 55%\n",
      "F : 45%\n",
      "Proablity of names end with o\n",
      "M : 83%\n",
      "F : 17%\n",
      "Proablity of names end with p\n",
      "M : 90%\n",
      "F : 10%\n",
      "Proablity of names end with r\n",
      "M : 80%\n",
      "F : 20%\n",
      "Proablity of names end with s\n",
      "M : 71%\n",
      "F : 29%\n",
      "Proablity of names end with t\n",
      "M : 71%\n",
      "F : 29%\n",
      "Proablity of names end with u\n",
      "M : 67%\n",
      "F : 33%\n",
      "Proablity of names end with v\n",
      "M : 89%\n",
      "F : 11%\n",
      "Proablity of names end with w\n",
      "M : 77%\n",
      "F : 23%\n",
      "Proablity of names end with x\n",
      "M : 50%\n",
      "F : 50%\n",
      "Proablity of names end with y\n",
      "M : 42%\n",
      "F : 58%\n",
      "Proablity of names end with z\n",
      "M : 73%\n",
      "F : 27%\n"
     ]
    }
   ],
   "source": [
    "import string\n",
    "alpha = (list(string.ascii_lowercase))\n",
    "\n",
    "#function to calculate the probablity based on the formula given\n",
    "def display(inp):\n",
    "    prob = ((len(m_names_a))/(len(all_names_a)))*100\n",
    "    probf = ((len(f_names_a))/(len(all_names_a)))*100\n",
    "    print(\"Proablity of names end with \" + inp)\n",
    "   # print('{}{}'.format('M:', (round(prob)))\n",
    "    \n",
    "    print('M : ' + str(round(prob)) + '%')\n",
    "    print('F : ' + str(round(probf)) + '%')\n",
    "    del all_names_a[0:]\n",
    "    del m_names_a[0:]\n",
    "    del f_names_a[0:]\n",
    "\n",
    "all_names_a = []\n",
    "m_names_a = []\n",
    "f_names_a = []\n",
    "#function to iterate over the names based on the 26 alphabets\n",
    "def callloop(inp_param):\n",
    "    flag = 0\n",
    "    for name in all_names:\n",
    "        if len(name) != 0:\n",
    "            if name.endswith(inp_param):\n",
    "                flag = 1\n",
    "                all_names_a.append(name)\n",
    "    for name in m_names:\n",
    "        if len(name) != 0:\n",
    "            if name.endswith(inp_param):\n",
    "                m_names_a.append(name)\n",
    "    for name in f_names:\n",
    "        if len(name) != 0:\n",
    "            if name.endswith(inp_param):\n",
    "                f_names_a.append(name)  \n",
    "    if flag == 1:            \n",
    "        display(inp_param) \n",
    "    \n",
    "for x in alpha:\n",
    "    callloop(x)    "
   ]
  }
 ],
 "metadata": {
  "anaconda-cloud": {},
  "kernelspec": {
   "display_name": "Python [conda root]",
   "language": "python",
   "name": "conda-root-py"
  },
  "language_info": {
   "codemirror_mode": {
    "name": "ipython",
    "version": 3
   },
   "file_extension": ".py",
   "mimetype": "text/x-python",
   "name": "python",
   "nbconvert_exporter": "python",
   "pygments_lexer": "ipython3",
   "version": "3.5.2"
  }
 },
 "nbformat": 4,
 "nbformat_minor": 1
}
