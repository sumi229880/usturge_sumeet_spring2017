{
 "cells": [
  {
   "cell_type": "markdown",
   "metadata": {},
   "source": [
    "# Question 4\n",
    "# Find 'user121' and see how many posts he posted in all\n",
    "# Find out how many unique user in each age range group. (20s, 30s,...)("
   ]
  },
  {
   "cell_type": "code",
   "execution_count": 1,
   "metadata": {
    "collapsed": false
   },
   "outputs": [
    {
     "name": "stdout",
     "output_type": "stream",
     "text": [
      "Number of times User121 posted: 132\n"
     ]
    }
   ],
   "source": [
    "from nltk.corpus import nps_chat\n",
    "posts = nps_chat.xml_posts()\n",
    "count = 0\n",
    "for post in posts:\n",
    "    a = post.get(key='user')\n",
    "    b = a.index(\"User\", 0)\n",
    "    if a[b:] == 'User121':\n",
    "        count += 1\n",
    "print(\"Number of times User121 posted: \" + str(count)) "
   ]
  },
  {
   "cell_type": "code",
   "execution_count": 2,
   "metadata": {
    "collapsed": false
   },
   "outputs": [
    {
     "name": "stdout",
     "output_type": "stream",
     "text": [
      "adults 138\n",
      "20s 162\n",
      "30s 44\n",
      "40s 80\n",
      "teens 206\n"
     ]
    }
   ],
   "source": [
    "from nltk.corpus import nps_chat\n",
    "posts = nps_chat.xml_posts()\n",
    "uni_dict = dict()\n",
    "for post in posts:\n",
    "    a = post.get(key='user')\n",
    "    b = a.index(\"User\", 0)\n",
    "    if a[6:b] not in uni_dict:\n",
    "        uni_dict[(a[6:b])] = set()\n",
    "    uni_dict[(a[6:b])].add(a[b:])\n",
    "for k,v in uni_dict.items():\n",
    "    print(k,len(v))"
   ]
  }
 ],
 "metadata": {
  "kernelspec": {
   "display_name": "Python [conda root]",
   "language": "python",
   "name": "conda-root-py"
  },
  "language_info": {
   "codemirror_mode": {
    "name": "ipython",
    "version": 3
   },
   "file_extension": ".py",
   "mimetype": "text/x-python",
   "name": "python",
   "nbconvert_exporter": "python",
   "pygments_lexer": "ipython3",
   "version": "3.5.2"
  }
 },
 "nbformat": 4,
 "nbformat_minor": 1
}
