{
 "cells": [
  {
   "cell_type": "code",
   "execution_count": 2,
   "metadata": {
    "collapsed": false
   },
   "outputs": [],
   "source": [
    "import requests\n",
    "import os\n",
    "import json\n",
    "import pathlib\n",
    "import urllib.request\n",
    "\n",
    "import time\n",
    "\n",
    "import csv\n",
    "from pathlib import Path"
   ]
  },
  {
   "cell_type": "code",
   "execution_count": 2,
   "metadata": {
    "collapsed": false
   },
   "outputs": [
    {
     "name": "stdout",
     "output_type": "stream",
     "text": [
      "None\n"
     ]
    }
   ],
   "source": [
    "\n",
    "article_search_key = os.getenv('nyt_article_search_key')\n",
    "print(article_search_key)"
   ]
  },
  {
   "cell_type": "code",
   "execution_count": 5,
   "metadata": {
    "collapsed": true
   },
   "outputs": [],
   "source": [
    "nyt_api = 'http://api.nytimes.com/svc/search/v2/articlesearch.'\n",
    "out_format = 'json'\n",
    "nyt_key='8260f4a92b374d9db2c92d282b37de32'\n",
    "begin_date = '20170101'\n",
    "end_date = '20170301'\n",
    "date = 'begin_date=' + begin_date + '&' + 'end_date=' + end_date + '&'\n",
    "pages=100\n",
    "offset = 0\n",
    "archive_path=r'C:\\\\Users\\\\Jaya\\\\Desktop\\\\NEU\\\\Midterm\\\\'"
   ]
  },
  {
   "cell_type": "code",
   "execution_count": 6,
   "metadata": {
    "collapsed": false
   },
   "outputs": [
    {
     "ename": "FileNotFoundError",
     "evalue": "[Errno 2] No such file or directory: 'C:\\\\\\\\Users\\\\\\\\Jaya\\\\\\\\Desktop\\\\\\\\NEU\\\\\\\\Midterm\\\\\\\\100_nyttrump.txt'",
     "output_type": "error",
     "traceback": [
      "\u001b[0;31m---------------------------------------------------------------------------\u001b[0m",
      "\u001b[0;31mFileNotFoundError\u001b[0m                         Traceback (most recent call last)",
      "\u001b[0;32m<ipython-input-6-35cfae35bf3c>\u001b[0m in \u001b[0;36m<module>\u001b[0;34m()\u001b[0m\n\u001b[1;32m     14\u001b[0m     \u001b[0mdicts\u001b[0m\u001b[1;33m.\u001b[0m\u001b[0mappend\u001b[0m\u001b[1;33m(\u001b[0m\u001b[0mdocs\u001b[0m\u001b[1;33m)\u001b[0m\u001b[1;33m\u001b[0m\u001b[0m\n\u001b[1;32m     15\u001b[0m \u001b[1;33m\u001b[0m\u001b[0m\n\u001b[0;32m---> 16\u001b[0;31m     \u001b[1;32mwith\u001b[0m \u001b[0mopen\u001b[0m\u001b[1;33m(\u001b[0m\u001b[0marchive_path\u001b[0m\u001b[1;33m+\u001b[0m\u001b[0mstr\u001b[0m\u001b[1;33m(\u001b[0m\u001b[0mpages\u001b[0m\u001b[1;33m)\u001b[0m\u001b[1;33m+\u001b[0m\u001b[1;34m'_nyttrump.txt'\u001b[0m\u001b[1;33m,\u001b[0m \u001b[1;34m'w'\u001b[0m\u001b[1;33m)\u001b[0m \u001b[1;32mas\u001b[0m \u001b[0mf\u001b[0m\u001b[1;33m:\u001b[0m\u001b[1;33m\u001b[0m\u001b[0m\n\u001b[0m\u001b[1;32m     17\u001b[0m         \u001b[0mprint\u001b[0m\u001b[1;33m(\u001b[0m\u001b[0marchive_path\u001b[0m\u001b[1;33m+\u001b[0m\u001b[0mstr\u001b[0m\u001b[1;33m(\u001b[0m\u001b[0mpages\u001b[0m\u001b[1;33m)\u001b[0m\u001b[1;33m)\u001b[0m\u001b[1;33m\u001b[0m\u001b[0m\n\u001b[1;32m     18\u001b[0m         \u001b[0mf\u001b[0m\u001b[1;33m.\u001b[0m\u001b[0mwrite\u001b[0m\u001b[1;33m(\u001b[0m\u001b[0mjson\u001b[0m\u001b[1;33m.\u001b[0m\u001b[0mdumps\u001b[0m\u001b[1;33m(\u001b[0m\u001b[0mdocs\u001b[0m\u001b[1;33m)\u001b[0m\u001b[1;33m)\u001b[0m\u001b[1;33m\u001b[0m\u001b[0m\n",
      "\u001b[0;31mFileNotFoundError\u001b[0m: [Errno 2] No such file or directory: 'C:\\\\\\\\Users\\\\\\\\Jaya\\\\\\\\Desktop\\\\\\\\NEU\\\\\\\\Midterm\\\\\\\\100_nyttrump.txt'"
     ]
    }
   ],
   "source": [
    "dicts = []\n",
    "for i in range(0, pages):\n",
    "    offset = i\n",
    "    url = nyt_api + out_format + '?' + date + 'offset=' + str(offset) + '&' + 'fq=trump' + '&' + 'facet_filter=true' + '&' + 'api-key=' + nyt_key    \n",
    "    request = urllib.request.Request(url)\n",
    "    response = urllib.request.urlopen(request)\n",
    "    #print (response.read().decode('utf-8'))\n",
    "    \n",
    "    #response = urllib2.urlopen(url).read()\n",
    "    dict_response = json.loads(response.read().decode('utf-8'))\n",
    "    \n",
    "    response = dict_response['response']\n",
    "    docs = response['docs']\n",
    "    dicts.append(docs)\n",
    "    \n",
    "    with open(archive_path+str(pages)+'_nyttrump.txt', 'w') as f:\n",
    "        print(archive_path+str(pages))\n",
    "        f.write(json.dumps(docs))\n",
    "    \n",
    "    time.sleep(2)"
   ]
  },
  {
   "cell_type": "code",
   "execution_count": 15,
   "metadata": {
    "collapsed": false
   },
   "outputs": [],
   "source": [
    "import time\n",
    "\n",
    "p = Path(os.getcwd())\n",
    "archive_path = r'C:\\\\Users\\\\Jaya\\\\Desktop\\\\NEU\\\\Midterm\\\\'\n",
    "page = 0\n",
    "\n",
    "while page < 60:\n",
    "    raw_data = requests.get('http://developer.nytimes.com/proxy/https/api.nytimes.com/svc/search/v2/articlesearch.json?api-key='+nyt_key+'&q=trump&begin_date=20160101&end_date=20161231&page='+str(page))\n",
    "    with open(archive_path+str(page)+'_a_s_2016.txt', 'w') as f:\n",
    "        f.write(json.dumps(raw_data.json()))\n",
    "    page += 1\n",
    "    time.sleep(2)"
   ]
  },
  {
   "cell_type": "code",
   "execution_count": 16,
   "metadata": {
    "collapsed": true
   },
   "outputs": [],
   "source": [
    "import glob\n",
    "import os\n",
    "import json\n",
    "import string\n",
    "import nltk\n",
    "from pathlib import Path\n",
    "from collections import Counter"
   ]
  },
  {
   "cell_type": "code",
   "execution_count": 18,
   "metadata": {
    "collapsed": true
   },
   "outputs": [],
   "source": [
    "\n",
    "archive_path1 = r'C:\\\\Users\\\\Jaya\\\\Desktop\\\\NEU\\\\Midterm\\\\*'"
   ]
  },
  {
   "cell_type": "code",
   "execution_count": 19,
   "metadata": {
    "collapsed": false
   },
   "outputs": [
    {
     "name": "stdout",
     "output_type": "stream",
     "text": [
      "932\n"
     ]
    }
   ],
   "source": [
    "# get the persons in keyword of the news\n",
    "files = glob.glob(archive_path1)\n",
    "person_list = []\n",
    "for file in files:\n",
    "    with open(file, 'r', encoding='utf-8', errors='ignore') as f:\n",
    "        python_data = json.load(f)\n",
    "        docs = python_data['response']['docs']\n",
    "        for doc in docs:\n",
    "            if 'keywords' in doc:\n",
    "                keywords = doc['keywords']\n",
    "                for key in keywords:\n",
    "                    if key['name'] == 'persons':\n",
    "                        person_list.append(key['value'])\n",
    "print(len(person_list))"
   ]
  },
  {
   "cell_type": "code",
   "execution_count": 20,
   "metadata": {
    "collapsed": false
   },
   "outputs": [
    {
     "name": "stdout",
     "output_type": "stream",
     "text": [
      "Trump, Donald J: 549\n",
      "Obama, Barack: 39\n",
      "Trump, Melania: 35\n",
      "Trump, Ivanka: 34\n",
      "Clinton, Hillary Rodham: 18\n",
      "Putin, Vladimir V: 16\n",
      "Curiel, Gonzalo P: 12\n",
      "Trump, Eric F (1984- ): 10\n",
      "Schneiderman, Eric T: 9\n",
      "Trump, Donald J Jr: 7\n"
     ]
    }
   ],
   "source": [
    "# count the frequency of names\n",
    "name_counter = Counter()\n",
    "for name in person_list:\n",
    "    name_counter.update([name])\n",
    "for name, time in name_counter.most_common(10):\n",
    "    print(name+': '+ str(time))"
   ]
  },
  {
   "cell_type": "code",
   "execution_count": 22,
   "metadata": {
    "collapsed": false
   },
   "outputs": [],
   "source": [
    "\n",
    "# writing it into csv file\n",
    "import csv\n",
    "output_path = r'C:\\\\Users\\\\Jaya\\\\Desktop\\\\NEU\\\\Midterm\\\\important_persons.csv'\n",
    "with open(output_path, 'w') as outcsv:\n",
    "    writer = csv.DictWriter(outcsv, fieldnames = [\"PERSON\",\"TIMES_OF_OCCURANCE\"])\n",
    "    writer.writeheader()\n",
    "    for name, time in name_counter.most_common(50):\n",
    "        writer.writerow({'PERSON': name,'TIMES_OF_OCCURANCE': str(time)})"
   ]
  },
  {
   "cell_type": "code",
   "execution_count": 23,
   "metadata": {
    "collapsed": true
   },
   "outputs": [],
   "source": [
    "\n",
    "def getWordCount(path):\n",
    "    files = glob.glob(path)\n",
    "    word_counter = Counter()\n",
    "    for file in files:\n",
    "        with open(file, 'r', encoding='utf-8', errors='ignore') as f:\n",
    "            python_data = json.load(f)\n",
    "            docs = python_data['response']['docs']\n",
    "            for doc in docs:\n",
    "                if 'lead_paragraph' in doc and doc['lead_paragraph'] is not None:\n",
    "                    for word in map(lambda w: w.strip(string.punctuation).lower(), doc['lead_paragraph'].split()):\n",
    "                        if word != '' and word not in set(nltk.corpus.stopwords.words('english')) and word.isalpha():\n",
    "                            word_counter.update([word])\n",
    "    return word_counter"
   ]
  },
  {
   "cell_type": "code",
   "execution_count": 24,
   "metadata": {
    "collapsed": true
   },
   "outputs": [],
   "source": [
    "article_2016_path = r'C:\\\\Users\\\\Jaya\\\\Desktop\\\\NEU\\\\Midterm\\\\*'"
   ]
  },
  {
   "cell_type": "code",
   "execution_count": 25,
   "metadata": {
    "collapsed": false
   },
   "outputs": [
    {
     "name": "stdout",
     "output_type": "stream",
     "text": [
      "2624\n"
     ]
    }
   ],
   "source": [
    "\n",
    "counter_2016 = getWordCount(article_2016_path)\n",
    "\n",
    "print(len(counter_2016))"
   ]
  },
  {
   "cell_type": "code",
   "execution_count": 3,
   "metadata": {
    "collapsed": false
   },
   "outputs": [
    {
     "ename": "AttributeError",
     "evalue": "module 'os' has no attribute 'cwd'",
     "output_type": "error",
     "traceback": [
      "\u001b[0;31m---------------------------------------------------------------------------\u001b[0m",
      "\u001b[0;31mAttributeError\u001b[0m                            Traceback (most recent call last)",
      "\u001b[0;32m<ipython-input-3-a5cadddc454d>\u001b[0m in \u001b[0;36m<module>\u001b[0;34m()\u001b[0m\n\u001b[0;32m----> 1\u001b[0;31m \u001b[0mos\u001b[0m\u001b[1;33m.\u001b[0m\u001b[0mcwd\u001b[0m\u001b[1;33m(\u001b[0m\u001b[1;33m)\u001b[0m\u001b[1;33m\u001b[0m\u001b[0m\n\u001b[0m",
      "\u001b[0;31mAttributeError\u001b[0m: module 'os' has no attribute 'cwd'"
     ]
    }
   ],
   "source": [
    "os.cwd()"
   ]
  },
  {
   "cell_type": "code",
   "execution_count": null,
   "metadata": {
    "collapsed": true
   },
   "outputs": [],
   "source": []
  }
 ],
 "metadata": {
  "kernelspec": {
   "display_name": "Python [default]",
   "language": "python",
   "name": "python3"
  },
  "language_info": {
   "codemirror_mode": {
    "name": "ipython",
    "version": 3
   },
   "file_extension": ".py",
   "mimetype": "text/x-python",
   "name": "python",
   "nbconvert_exporter": "python",
   "pygments_lexer": "ipython3",
   "version": "3.5.2"
  }
 },
 "nbformat": 4,
 "nbformat_minor": 0
}
