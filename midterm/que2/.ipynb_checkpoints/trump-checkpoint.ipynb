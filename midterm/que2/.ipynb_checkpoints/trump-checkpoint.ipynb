{
 "cells": [
  {
   "cell_type": "code",
   "execution_count": 13,
   "metadata": {
    "collapsed": false
   },
   "outputs": [],
   "source": [
    "\n",
    "import requests\n",
    "import os\n",
    "import json\n",
    "import pathlib\n",
    "import urllib.request\n",
    "\n",
    "import time\n",
    "from itertools import chain\n",
    "import csv\n",
    "from pathlib import Path"
   ]
  },
  {
   "cell_type": "code",
   "execution_count": 2,
   "metadata": {
    "collapsed": false
   },
   "outputs": [
    {
     "name": "stdout",
     "output_type": "stream",
     "text": [
      "None\n"
     ]
    }
   ],
   "source": [
    "\n",
    "article_search_key = os.getenv('nyt_article_search_key')\n",
    "print(article_search_key)"
   ]
  },
  {
   "cell_type": "code",
   "execution_count": 14,
   "metadata": {
    "collapsed": true
   },
   "outputs": [],
   "source": [
    "nyt_api = 'http://api.nytimes.com/svc/search/v2/articlesearch.'\n",
    "out_format = 'json'\n",
    "nyt_key='5246cf0ac6e34ba39890019996b64e9a'\n",
    "begin_date = '20170101'\n",
    "end_date = '20170301'\n",
    "date = 'begin_date=' + begin_date + '&' + 'end_date=' + end_date + '&'\n",
    "pages=100\n",
    "offset = 0\n",
    "archive_path=r'C:\\\\Users\\\\Jaya\\\\Desktop\\\\NEU\\\\Midterm\\\\'"
   ]
  },
  {
   "cell_type": "code",
   "execution_count": 7,
   "metadata": {
    "collapsed": false
   },
   "outputs": [],
   "source": [
    "dicts = []\n",
    "for i in range(0, pages):\n",
    "    offset = i\n",
    "    url = nyt_api + out_format + '?' + date + 'offset=' + str(offset) + '&' + 'fq=trump' + '&' + 'facet_filter=true' + '&' + 'api-key=' + nyt_key    \n",
    "    request = urllib.request.Request(url)\n",
    "    response = urllib.request.urlopen(request)\n",
    "    #print (response.read().decode('utf-8'))\n",
    "    \n",
    "    #response = urllib2.urlopen(url).read()\n",
    "    dict_response = json.loads(response.read().decode('utf-8'))\n",
    "    \n",
    "    response = dict_response['response']\n",
    "    docs = response['docs']\n",
    "    dicts.append(docs)\n",
    "    \n",
    "    with open(archive_path+str(pages)+'_a_s_2016.txt', 'w') as f:\n",
    "        \n",
    "        f.write(json.dumps(docs))\n",
    "    \n",
    "    time.sleep(2)"
   ]
  },
  {
   "cell_type": "code",
   "execution_count": 15,
   "metadata": {
    "collapsed": false
   },
   "outputs": [],
   "source": [
    "import time\n",
    "\n",
    "p = Path(os.getcwd())\n",
    "archive_path = r'C:\\\\Users\\\\Jaya\\\\Desktop\\\\NEU\\\\Midterm\\\\'\n",
    "page = 0\n",
    "\n",
    "while page < 60:\n",
    "    raw_data = requests.get('http://developer.nytimes.com/proxy/https/api.nytimes.com/svc/search/v2/articlesearch.json?api-key='+nyt_key+'&q=trump&begin_date=20160101&end_date=20161231&page='+str(page))\n",
    "    with open(archive_path+str(page)+'_a_s_2016.txt', 'w') as f:\n",
    "        f.write(json.dumps(raw_data.json()))\n",
    "    page += 1\n",
    "    time.sleep(2)"
   ]
  },
  {
   "cell_type": "code",
   "execution_count": 16,
   "metadata": {
    "collapsed": true
   },
   "outputs": [],
   "source": [
    "import glob\n",
    "import os\n",
    "import json\n",
    "import string\n",
    "import nltk\n",
    "from pathlib import Path\n",
    "from collections import Counter"
   ]
  },
  {
   "cell_type": "code",
   "execution_count": 18,
   "metadata": {
    "collapsed": true
   },
   "outputs": [],
   "source": [
    "\n",
    "archive_path1 = r'C:\\\\Users\\\\Jaya\\\\Desktop\\\\NEU\\\\Midterm\\\\*'"
   ]
  },
  {
   "cell_type": "code",
   "execution_count": 19,
   "metadata": {
    "collapsed": false
   },
   "outputs": [
    {
     "name": "stdout",
     "output_type": "stream",
     "text": [
      "932\n"
     ]
    }
   ],
   "source": [
    "# get the persons in keyword of the news\n",
    "files = glob.glob(archive_path1)\n",
    "person_list = []\n",
    "for file in files:\n",
    "    with open(file, 'r', encoding='utf-8', errors='ignore') as f:\n",
    "        python_data = json.load(f)\n",
    "        docs = python_data['response']['docs']\n",
    "        for doc in docs:\n",
    "            if 'keywords' in doc:\n",
    "                keywords = doc['keywords']\n",
    "                for key in keywords:\n",
    "                    if key['name'] == 'persons':\n",
    "                        person_list.append(key['value'])\n",
    "print(len(person_list))"
   ]
  },
  {
   "cell_type": "code",
   "execution_count": 20,
   "metadata": {
    "collapsed": false
   },
   "outputs": [
    {
     "name": "stdout",
     "output_type": "stream",
     "text": [
      "Trump, Donald J: 549\n",
      "Obama, Barack: 39\n",
      "Trump, Melania: 35\n",
      "Trump, Ivanka: 34\n",
      "Clinton, Hillary Rodham: 18\n",
      "Putin, Vladimir V: 16\n",
      "Curiel, Gonzalo P: 12\n",
      "Trump, Eric F (1984- ): 10\n",
      "Schneiderman, Eric T: 9\n",
      "Trump, Donald J Jr: 7\n"
     ]
    }
   ],
   "source": [
    "# count the frequency of names\n",
    "name_counter = Counter()\n",
    "for name in person_list:\n",
    "    name_counter.update([name])\n",
    "for name, time in name_counter.most_common(10):\n",
    "    print(name+': '+ str(time))"
   ]
  },
  {
   "cell_type": "code",
   "execution_count": 22,
   "metadata": {
    "collapsed": false
   },
   "outputs": [],
   "source": [
    "\n",
    "# writing it into csv file\n",
    "import csv\n",
    "output_path = r'C:\\\\Users\\\\Jaya\\\\Desktop\\\\NEU\\\\Midterm\\\\important_persons.csv'\n",
    "with open(output_path, 'w') as outcsv:\n",
    "    writer = csv.DictWriter(outcsv, fieldnames = [\"PERSON\",\"TIMES_OF_OCCURANCE\"])\n",
    "    writer.writeheader()\n",
    "    for name, time in name_counter.most_common(50):\n",
    "        writer.writerow({'PERSON': name,'TIMES_OF_OCCURANCE': str(time)})"
   ]
  },
  {
   "cell_type": "code",
   "execution_count": 23,
   "metadata": {
    "collapsed": true
   },
   "outputs": [],
   "source": [
    "\n",
    "def getWordCount(path):\n",
    "    files = glob.glob(path)\n",
    "    word_counter = Counter()\n",
    "    for file in files:\n",
    "        with open(file, 'r', encoding='utf-8', errors='ignore') as f:\n",
    "            python_data = json.load(f)\n",
    "            docs = python_data['response']['docs']\n",
    "            for doc in docs:\n",
    "                if 'lead_paragraph' in doc and doc['lead_paragraph'] is not None:\n",
    "                    for word in map(lambda w: w.strip(string.punctuation).lower(), doc['lead_paragraph'].split()):\n",
    "                        if word != '' and word not in set(nltk.corpus.stopwords.words('english')) and word.isalpha():\n",
    "                            word_counter.update([word])\n",
    "    return word_counter"
   ]
  },
  {
   "cell_type": "code",
   "execution_count": 24,
   "metadata": {
    "collapsed": true
   },
   "outputs": [],
   "source": [
    "article_2016_path = r'C:\\\\Users\\\\Jaya\\\\Desktop\\\\NEU\\\\Midterm\\\\*'"
   ]
  },
  {
   "cell_type": "code",
   "execution_count": 25,
   "metadata": {
    "collapsed": false
   },
   "outputs": [
    {
     "name": "stdout",
     "output_type": "stream",
     "text": [
      "2624\n"
     ]
    }
   ],
   "source": [
    "\n",
    "counter_2016 = getWordCount(article_2016_path)\n",
    "\n",
    "print(len(counter_2016))"
   ]
  },
  {
   "cell_type": "code",
   "execution_count": null,
   "metadata": {
    "collapsed": true
   },
   "outputs": [],
   "source": []
  }
 ],
 "metadata": {
  "kernelspec": {
   "display_name": "Python [default]",
   "language": "python",
   "name": "python3"
  },
  "language_info": {
   "codemirror_mode": {
    "name": "ipython",
    "version": 3
   },
   "file_extension": ".py",
   "mimetype": "text/x-python",
   "name": "python",
   "nbconvert_exporter": "python",
   "pygments_lexer": "ipython3",
   "version": "3.5.2"
  }
 },
 "nbformat": 4,
 "nbformat_minor": 0
}
