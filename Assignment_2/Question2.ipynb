{
 "cells": [
  {
   "cell_type": "markdown",
   "metadata": {},
   "source": [
    "# Question 2 : Read all json files inn folder called data and create hierarchy. Also create a csv file with desired output."
   ]
  },
  {
   "cell_type": "code",
   "execution_count": 14,
   "metadata": {
    "collapsed": false
   },
   "outputs": [],
   "source": [
    "import os \n",
    "import json\n",
    "import re\n",
    "import csv\n",
    "import string\n",
    "path_to_json='Data'\n",
    "json_files=[pos_json for pos_json in os.listdir(path_to_json) if pos_json.endswith('.json')]"
   ]
  },
  {
   "cell_type": "code",
   "execution_count": 15,
   "metadata": {
    "collapsed": false
   },
   "outputs": [],
   "source": [
    "directory = \"Processed Data\"\n",
    "file_path= 'Data\\\\' +directory + '\\\\' #relative path"
   ]
  },
  {
   "cell_type": "code",
   "execution_count": 13,
   "metadata": {
    "collapsed": true
   },
   "outputs": [],
   "source": [
    "def makefolder(k):\n",
    "    newpath = file_path + k\n",
    "    if not os.path.exists(newpath):\n",
    "        os.makedirs(newpath)\n",
    "        \n",
    "def putinfolder(v,js,k): #function for dumping the files\n",
    "    filename = js\n",
    "    path = file_path + k \n",
    "    filename = os.path.join(path, filename)\n",
    "    with open(filename, 'w') as fp:\n",
    "        json.dump(v, fp)\n",
    "        fp.close() \n",
    "\n",
    "def statesubfolder(json_text,json_file,country,state): #function for creating sub directoreies\n",
    "    newpath = file_path + country + '\\\\' + state\n",
    "    if not os.path.exists(newpath):\n",
    "        os.makedirs(newpath)\n",
    "    filename=json_file\n",
    "    path = file_path + country + '\\\\' + state\n",
    "    filename=os.path.join(path,filename)\n",
    "    with open(filename,'w') as fp:\n",
    "        json.dump(json_text,fp)\n",
    "        fp.close()\n",
    "\n",
    "lst = []\n",
    "for index, js in enumerate(json_files):\n",
    "    with open(os.path.join(path_to_json,js)) as json_file:\n",
    "        json_text=json.load(json_file)\n",
    "        country = json_text['location']['country']\n",
    "        state=json_text['location']['state']\n",
    "        city=json_text['location']['city']\n",
    "        makefolder(country)\n",
    "        statesubfolder(json_text,js,country,state)"
   ]
  },
  {
   "cell_type": "code",
   "execution_count": 26,
   "metadata": {
    "collapsed": false
   },
   "outputs": [],
   "source": [
    "#part 2 of the question\n",
    "with open('restaurants.csv', 'w', encoding='utf-8') as csvfile:        \n",
    "    header = ['Name of the restaurants', 'City', 'Country Code','Day of Week','Start Time Hour','Start Time Minute','End Time Hour','End Time Minute']\n",
    "    writer = csv.DictWriter(csvfile, fieldnames=header, lineterminator='\\n')\n",
    "    writer.writeheader()\n",
    "    for f in json_files:                                    \n",
    "        with open(os.path.join(path_to_json,f)) as json_file:\n",
    "            json_text=json.load(json_file)\n",
    "            if json_text['term'] in 'restaurants':          \n",
    "                name=json_text['id']\n",
    "                for i in range(0,15):     \n",
    "                    try:\n",
    "                        writer.writerow({'Name of the restaurants':name, 'City':json_text['location']['city'], \n",
    "                                         'Country Code':json_text['location']['country'],\n",
    "                                         'Day of Week':json_text['hours'][0]['open'][i]['day'],\n",
    "                                         'Start Time Hour':json_text['hours'][0]['open'][i]['start'][:2],\n",
    "                                         'Start Time Minute':json_text['hours'][0]['open'][i]['start'][2:4],\n",
    "                                         'End Time Hour':json_text['hours'][0]['open'][i]['end'][:2],\n",
    "                                         'End Time Minute':json_text['hours'][0]['open'][i]['end'][2:4]})\n",
    "                    except (IndexError,KeyError):\n",
    "                        continue"
   ]
  }
 ],
 "metadata": {
  "anaconda-cloud": {},
  "kernelspec": {
   "display_name": "Python [default]",
   "language": "python",
   "name": "python3"
  },
  "language_info": {
   "codemirror_mode": {
    "name": "ipython",
    "version": 3
   },
   "file_extension": ".py",
   "mimetype": "text/x-python",
   "name": "python",
   "nbconvert_exporter": "python",
   "pygments_lexer": "ipython3",
   "version": "3.5.2"
  }
 },
 "nbformat": 4,
 "nbformat_minor": 1
}
