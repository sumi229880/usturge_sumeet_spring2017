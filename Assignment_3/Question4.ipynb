{
 "cells": [
  {
   "cell_type": "markdown",
   "metadata": {},
   "source": [
    "# Question 4"
   ]
  },
  {
   "cell_type": "code",
   "execution_count": 116,
   "metadata": {
    "collapsed": true
   },
   "outputs": [],
   "source": [
    "import pandas as pd\n",
    "infile = 'Data/movies_awards.csv'\n",
    "outfile = 'Data/movies_awards_result.csv'\n",
    "df = pd.read_csv(infile)"
   ]
  },
  {
   "cell_type": "code",
   "execution_count": 117,
   "metadata": {
    "collapsed": false
   },
   "outputs": [],
   "source": [
    "filtered_df = df['Awards']"
   ]
  },
  {
   "cell_type": "code",
   "execution_count": 118,
   "metadata": {
    "collapsed": false,
    "scrolled": false
   },
   "outputs": [
    {
     "data": {
      "text/html": [
       "<div>\n",
       "<table border=\"1\" class=\"dataframe\">\n",
       "  <thead>\n",
       "    <tr style=\"text-align: right;\">\n",
       "      <th></th>\n",
       "      <th>Awards</th>\n",
       "    </tr>\n",
       "  </thead>\n",
       "  <tbody>\n",
       "    <tr>\n",
       "      <th>3</th>\n",
       "      <td>1 win &amp; 2 nominations.</td>\n",
       "    </tr>\n",
       "    <tr>\n",
       "      <th>4</th>\n",
       "      <td>1 win.</td>\n",
       "    </tr>\n",
       "    <tr>\n",
       "      <th>5</th>\n",
       "      <td>1 nomination.</td>\n",
       "    </tr>\n",
       "    <tr>\n",
       "      <th>6</th>\n",
       "      <td>3 wins &amp; 2 nominations.</td>\n",
       "    </tr>\n",
       "    <tr>\n",
       "      <th>7</th>\n",
       "      <td>1 win &amp; 1 nomination.</td>\n",
       "    </tr>\n",
       "  </tbody>\n",
       "</table>\n",
       "</div>"
      ],
      "text/plain": [
       "                    Awards\n",
       "3   1 win & 2 nominations.\n",
       "4                   1 win.\n",
       "5            1 nomination.\n",
       "6  3 wins & 2 nominations.\n",
       "7    1 win & 1 nomination."
      ]
     },
     "execution_count": 118,
     "metadata": {},
     "output_type": "execute_result"
    }
   ],
   "source": [
    "#filtering out unnecessary columns and dropping NA\n",
    "from pandas import Series, DataFrame\n",
    "frame = DataFrame(filtered_df)\n",
    "inp_frame = frame.dropna()\n",
    "inp_frame.head()"
   ]
  },
  {
   "cell_type": "code",
   "execution_count": 119,
   "metadata": {
    "collapsed": false,
    "scrolled": true
   },
   "outputs": [],
   "source": [
    "#re-indexing and adding the required columns\n",
    "out_frame = pd.concat([i, pd.DataFrame(columns = [ 'Awards_Won', 'Awards_Nominated','Prime_Awards_Nominated','Oscar_Awards_Nominated','Golden_Globe_Awards_Nominated','BAFTA_Awards_Nominated','Prime_Awards_Won','Oscar_Awards_Won','Golden_Globe_Awards_Won','BAFTA_Awards_Won'])])\n",
    "out_frame = out_frame.reset_index()\n",
    "del out_frame['index']"
   ]
  },
  {
   "cell_type": "code",
   "execution_count": 120,
   "metadata": {
    "collapsed": false
   },
   "outputs": [],
   "source": [
    "#regex to split the awards columns\n",
    "import re\n",
    "reg_ex = re.compile(r'\\d+\\s\\w+\\b')"
   ]
  },
  {
   "cell_type": "code",
   "execution_count": 135,
   "metadata": {
    "collapsed": false,
    "scrolled": true
   },
   "outputs": [],
   "source": [
    "#splitting and adding to respective columns of dataframe based on their condition\n",
    "row_index = 0\n",
    "for award in i['Awards']:\n",
    "    if award.startswith(\"Nominated\"):\n",
    "        splits = reg_ex.findall(award)\n",
    "        for split in splits:\n",
    "            if 'win' in split:\n",
    "                out_frame.set_value(row_index , 'Awards_Won', int(split.split()[0]))\n",
    "            elif 'nomination' in split:\n",
    "                out_frame.set_value(row_index , 'Awards_Nominated', int(split.split()[0]))\n",
    "            elif 'Golden' in split:\n",
    "                out_frame.set_value(row_index , 'Golden_Globe_Awards_Nominated', int(split.split()[0]))\n",
    "            elif 'BAFTA' in split:\n",
    "                out_frame.set_value(row_index , 'BAFTA_Awards_Nominated', int(split.split()[0]))\n",
    "            elif 'Oscar' in split:\n",
    "                out_frame.set_value(row_index , 'Oscar_Awards_Nominated', int(split.split()[0]))\n",
    "            elif 'Primetime' in split:\n",
    "                out_frame.set_value(row_index , 'Oscar_Awards_Nominated', int(split.split()[0]))\n",
    "        row_index = row_index + 1\n",
    "    elif award.startswith(\"Won\"):\n",
    "        splits = reg_ex.findall(award)\n",
    "        for split in splits:\n",
    "            if 'win' in split:\n",
    "                out_frame.set_value(row_index , 'Awards_Won', int(split.split()[0]))\n",
    "            elif 'nomination' in split:\n",
    "                out_frame.set_value(row_index , 'Awards_Nominated', int(split.split()[0]))\n",
    "            elif 'Golden' in split:\n",
    "                out_frame.set_value(row_index , 'Golden_Globe_Awards_Won', int(split.split()[0]))\n",
    "            elif 'BAFTA' in split:\n",
    "                out_frame.set_value(row_index , 'BAFTA_Awards_Won', int(split.split()[0]))\n",
    "            elif 'Oscar' in split:\n",
    "                out_frame.set_value(row_index , 'Oscar_Awards_Won', int(split.split()[0]))\n",
    "            elif 'Primetime' in split:\n",
    "                out_frame.set_value(row_index , 'Oscar_Awards_Won', int(split.split()[0]))\n",
    "        row_index = row_index + 1\n",
    "    else:\n",
    "        splits = reg_ex.findall(award)\n",
    "        for split in splits:\n",
    "            if 'win' in split:\n",
    "                out_frame.set_value(row_index , 'Awards_Won', int(split.split()[0]))\n",
    "            else:\n",
    "                out_frame.set_value(row_index , 'Awards_Nominated', int(split.split()[0]))\n",
    "        row_index = row_index + 1"
   ]
  },
  {
   "cell_type": "code",
   "execution_count": 137,
   "metadata": {
    "collapsed": false,
    "scrolled": false
   },
   "outputs": [
    {
     "data": {
      "text/html": [
       "<div>\n",
       "<table border=\"1\" class=\"dataframe\">\n",
       "  <thead>\n",
       "    <tr style=\"text-align: right;\">\n",
       "      <th></th>\n",
       "      <th>Awards</th>\n",
       "      <th>Awards_Nominated</th>\n",
       "      <th>Awards_Won</th>\n",
       "      <th>BAFTA_Awards_Nominated</th>\n",
       "      <th>BAFTA_Awards_Won</th>\n",
       "      <th>Golden_Globe_Awards_Nominated</th>\n",
       "      <th>Golden_Globe_Awards_Won</th>\n",
       "      <th>Oscar_Awards_Nominated</th>\n",
       "      <th>Oscar_Awards_Won</th>\n",
       "      <th>Prime_Awards_Nominated</th>\n",
       "      <th>Prime_Awards_Won</th>\n",
       "    </tr>\n",
       "  </thead>\n",
       "  <tbody>\n",
       "    <tr>\n",
       "      <th>0</th>\n",
       "      <td>1 win &amp; 2 nominations.</td>\n",
       "      <td>2</td>\n",
       "      <td>1</td>\n",
       "      <td>0</td>\n",
       "      <td>0</td>\n",
       "      <td>0</td>\n",
       "      <td>0</td>\n",
       "      <td>0</td>\n",
       "      <td>0</td>\n",
       "      <td>0</td>\n",
       "      <td>0</td>\n",
       "    </tr>\n",
       "    <tr>\n",
       "      <th>1</th>\n",
       "      <td>1 win.</td>\n",
       "      <td>0</td>\n",
       "      <td>1</td>\n",
       "      <td>0</td>\n",
       "      <td>0</td>\n",
       "      <td>0</td>\n",
       "      <td>0</td>\n",
       "      <td>0</td>\n",
       "      <td>0</td>\n",
       "      <td>0</td>\n",
       "      <td>0</td>\n",
       "    </tr>\n",
       "    <tr>\n",
       "      <th>2</th>\n",
       "      <td>1 nomination.</td>\n",
       "      <td>1</td>\n",
       "      <td>0</td>\n",
       "      <td>0</td>\n",
       "      <td>0</td>\n",
       "      <td>0</td>\n",
       "      <td>0</td>\n",
       "      <td>0</td>\n",
       "      <td>0</td>\n",
       "      <td>0</td>\n",
       "      <td>0</td>\n",
       "    </tr>\n",
       "    <tr>\n",
       "      <th>3</th>\n",
       "      <td>3 wins &amp; 2 nominations.</td>\n",
       "      <td>2</td>\n",
       "      <td>3</td>\n",
       "      <td>0</td>\n",
       "      <td>0</td>\n",
       "      <td>0</td>\n",
       "      <td>0</td>\n",
       "      <td>0</td>\n",
       "      <td>0</td>\n",
       "      <td>0</td>\n",
       "      <td>0</td>\n",
       "    </tr>\n",
       "    <tr>\n",
       "      <th>4</th>\n",
       "      <td>1 win &amp; 1 nomination.</td>\n",
       "      <td>1</td>\n",
       "      <td>1</td>\n",
       "      <td>0</td>\n",
       "      <td>0</td>\n",
       "      <td>0</td>\n",
       "      <td>0</td>\n",
       "      <td>0</td>\n",
       "      <td>0</td>\n",
       "      <td>0</td>\n",
       "      <td>0</td>\n",
       "    </tr>\n",
       "  </tbody>\n",
       "</table>\n",
       "</div>"
      ],
      "text/plain": [
       "                    Awards  Awards_Nominated  Awards_Won  \\\n",
       "0   1 win & 2 nominations.                 2           1   \n",
       "1                   1 win.                 0           1   \n",
       "2            1 nomination.                 1           0   \n",
       "3  3 wins & 2 nominations.                 2           3   \n",
       "4    1 win & 1 nomination.                 1           1   \n",
       "\n",
       "   BAFTA_Awards_Nominated  BAFTA_Awards_Won  Golden_Globe_Awards_Nominated  \\\n",
       "0                       0                 0                              0   \n",
       "1                       0                 0                              0   \n",
       "2                       0                 0                              0   \n",
       "3                       0                 0                              0   \n",
       "4                       0                 0                              0   \n",
       "\n",
       "   Golden_Globe_Awards_Won  Oscar_Awards_Nominated  Oscar_Awards_Won  \\\n",
       "0                        0                       0                 0   \n",
       "1                        0                       0                 0   \n",
       "2                        0                       0                 0   \n",
       "3                        0                       0                 0   \n",
       "4                        0                       0                 0   \n",
       "\n",
       "   Prime_Awards_Nominated  Prime_Awards_Won  \n",
       "0                       0                 0  \n",
       "1                       0                 0  \n",
       "2                       0                 0  \n",
       "3                       0                 0  \n",
       "4                       0                 0  "
      ]
     },
     "execution_count": 137,
     "metadata": {},
     "output_type": "execute_result"
    }
   ],
   "source": [
    "#formatiing the output as required\n",
    "output = out_frame.fillna(0)\n",
    "output.head()"
   ]
  },
  {
   "cell_type": "code",
   "execution_count": 138,
   "metadata": {
    "collapsed": true
   },
   "outputs": [],
   "source": [
    "#saving the result in csv file\n",
    "output.to_csv(outfile)"
   ]
  }
 ],
 "metadata": {
  "kernelspec": {
   "display_name": "Python [conda root]",
   "language": "python",
   "name": "conda-root-py"
  },
  "language_info": {
   "codemirror_mode": {
    "name": "ipython",
    "version": 3
   },
   "file_extension": ".py",
   "mimetype": "text/x-python",
   "name": "python",
   "nbconvert_exporter": "python",
   "pygments_lexer": "ipython3",
   "version": "3.5.2"
  }
 },
 "nbformat": 4,
 "nbformat_minor": 1
}
