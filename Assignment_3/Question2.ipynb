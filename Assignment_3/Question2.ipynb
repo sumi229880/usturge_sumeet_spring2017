{
 "cells": [
  {
   "cell_type": "markdown",
   "metadata": {},
   "source": [
    "# Question 2-Part 1"
   ]
  },
  {
   "cell_type": "code",
   "execution_count": 21,
   "metadata": {
    "collapsed": false
   },
   "outputs": [],
   "source": [
    "import pandas as pd\n",
    "infile = 'Data/employee_compensation.csv'\n",
    "outfile1 = 'Data/employee_compensation_part1_result.csv'\n",
    "outfile2 = 'Data/employee_compensation_part2_result.csv'\n",
    "data=pd.read_csv(infile)"
   ]
  },
  {
   "cell_type": "code",
   "execution_count": 2,
   "metadata": {
    "collapsed": false
   },
   "outputs": [],
   "source": [
    "aggregations={'Total Compensation':'mean'}\n",
    "data_agg=data.groupby(['Organization Group','Department'],as_index=False).agg(aggregations)\n",
    "aggregationsmax={'Total Compensation':'max'}"
   ]
  },
  {
   "cell_type": "code",
   "execution_count": 3,
   "metadata": {
    "collapsed": false
   },
   "outputs": [],
   "source": [
    "#Highest paid department in each organization by Organization Group\n",
    "organizationgrouptotalcompensation=data_agg.groupby(['Organization Group'], as_index=False).agg(aggregationsmax)"
   ]
  },
  {
   "cell_type": "code",
   "execution_count": 10,
   "metadata": {
    "collapsed": false
   },
   "outputs": [
    {
     "data": {
      "text/html": [
       "<div>\n",
       "<table border=\"1\" class=\"dataframe\">\n",
       "  <thead>\n",
       "    <tr style=\"text-align: right;\">\n",
       "      <th></th>\n",
       "      <th>Organization Group</th>\n",
       "      <th>Department</th>\n",
       "      <th>Total Compensation</th>\n",
       "    </tr>\n",
       "  </thead>\n",
       "  <tbody>\n",
       "    <tr>\n",
       "      <th>0</th>\n",
       "      <td>Community Health</td>\n",
       "      <td>Public Health</td>\n",
       "      <td>96190.190140</td>\n",
       "    </tr>\n",
       "    <tr>\n",
       "      <th>5</th>\n",
       "      <td>Culture &amp; Recreation</td>\n",
       "      <td>Law Library</td>\n",
       "      <td>188424.362222</td>\n",
       "    </tr>\n",
       "    <tr>\n",
       "      <th>11</th>\n",
       "      <td>General Administration &amp; Finance</td>\n",
       "      <td>City Attorney</td>\n",
       "      <td>166082.677561</td>\n",
       "    </tr>\n",
       "    <tr>\n",
       "      <th>24</th>\n",
       "      <td>General City Responsibilities</td>\n",
       "      <td>General Fund Unallocated</td>\n",
       "      <td>15824.151304</td>\n",
       "    </tr>\n",
       "    <tr>\n",
       "      <th>34</th>\n",
       "      <td>Human Welfare &amp; Neighborhood Development</td>\n",
       "      <td>Rent Arbitration Board</td>\n",
       "      <td>102181.793941</td>\n",
       "    </tr>\n",
       "    <tr>\n",
       "      <th>38</th>\n",
       "      <td>Public Protection</td>\n",
       "      <td>Fire Department</td>\n",
       "      <td>180788.086979</td>\n",
       "    </tr>\n",
       "    <tr>\n",
       "      <th>55</th>\n",
       "      <td>Public Works, Transportation &amp; Commerce</td>\n",
       "      <td>Port</td>\n",
       "      <td>112139.680017</td>\n",
       "    </tr>\n",
       "  </tbody>\n",
       "</table>\n",
       "</div>"
      ],
      "text/plain": [
       "                          Organization Group                Department  \\\n",
       "0                           Community Health             Public Health   \n",
       "5                       Culture & Recreation               Law Library   \n",
       "11          General Administration & Finance             City Attorney   \n",
       "24             General City Responsibilities  General Fund Unallocated   \n",
       "34  Human Welfare & Neighborhood Development    Rent Arbitration Board   \n",
       "38                         Public Protection           Fire Department   \n",
       "55   Public Works, Transportation & Commerce                      Port   \n",
       "\n",
       "    Total Compensation  \n",
       "0         96190.190140  \n",
       "5        188424.362222  \n",
       "11       166082.677561  \n",
       "24        15824.151304  \n",
       "34       102181.793941  \n",
       "38       180788.086979  \n",
       "55       112139.680017  "
      ]
     },
     "execution_count": 10,
     "metadata": {},
     "output_type": "execute_result"
    }
   ],
   "source": [
    "#Part one 2nd point\n",
    "data_agg[data_agg['Total Compensation'].isin(organizationgrouptotalcompensation['Total Compensation'])]"
   ]
  },
  {
   "cell_type": "code",
   "execution_count": 14,
   "metadata": {
    "collapsed": false
   },
   "outputs": [
    {
     "name": "stderr",
     "output_type": "stream",
     "text": [
      "C:\\Users\\Sumeet\\Anaconda3\\lib\\site-packages\\ipykernel\\__main__.py:4: FutureWarning: order is deprecated, use sort_values(...)\n"
     ]
    }
   ],
   "source": [
    "#g = data.groupby(['Organization Group','Department'],as_index=False).agg(aggregations)['Total Compensation'].groupby(level=0, group_keys=False)\n",
    "data_agg1=data.groupby(['Organization Group','Department']).agg(aggregations)\n",
    "g=data_agg1['Total Compensation'].groupby(level=0, group_keys=False)\n",
    "res = g.apply(lambda x: x.order(ascending=False))"
   ]
  },
  {
   "cell_type": "code",
   "execution_count": 15,
   "metadata": {
    "collapsed": false
   },
   "outputs": [
    {
     "data": {
      "text/plain": [
       "Organization Group    Department         \n",
       "Community Health      Public Health           96190.190140\n",
       "Culture & Recreation  Law Library            188424.362222\n",
       "                      Academy of Sciences    107319.727692\n",
       "                      Arts Commission         94339.597388\n",
       "                      War Memorial            76250.068022\n",
       "Name: Total Compensation, dtype: float64"
      ]
     },
     "execution_count": 15,
     "metadata": {},
     "output_type": "execute_result"
    }
   ],
   "source": [
    "res.head()"
   ]
  },
  {
   "cell_type": "code",
   "execution_count": 17,
   "metadata": {
    "collapsed": false
   },
   "outputs": [],
   "source": [
    "abc=res.to_frame().reset_index()"
   ]
  },
  {
   "cell_type": "code",
   "execution_count": 20,
   "metadata": {
    "collapsed": false
   },
   "outputs": [],
   "source": [
    "abc.to_csv(outfile)"
   ]
  },
  {
   "cell_type": "code",
   "execution_count": null,
   "metadata": {
    "collapsed": true
   },
   "outputs": [],
   "source": []
  },
  {
   "cell_type": "markdown",
   "metadata": {
    "collapsed": true
   },
   "source": [
    "# Part 2"
   ]
  },
  {
   "cell_type": "code",
   "execution_count": 22,
   "metadata": {
    "collapsed": false
   },
   "outputs": [],
   "source": [
    "data2=data[data['Year Type'] =='Calendar']"
   ]
  },
  {
   "cell_type": "code",
   "execution_count": 23,
   "metadata": {
    "collapsed": true
   },
   "outputs": [],
   "source": [
    "aggregations={'Total Compensation':'mean','Salaries':'mean','Overtime':'mean','Other Salaries':'mean','Total Salary':'mean','Retirement':'mean',\n",
    "             'Health/Dental':'mean','Other Benefits':'mean','Total Benefits':'mean'}"
   ]
  },
  {
   "cell_type": "code",
   "execution_count": 24,
   "metadata": {
    "collapsed": false
   },
   "outputs": [],
   "source": [
    "data3=data2.groupby(['Employee Identifier','Organization Group Code','Organization Group','Department Code','Department','Union Code','Union','Job Family Code','Job Family','Job Code','Job'],as_index=False).agg(aggregations)"
   ]
  },
  {
   "cell_type": "code",
   "execution_count": 27,
   "metadata": {
    "collapsed": false,
    "scrolled": true
   },
   "outputs": [],
   "source": [
    "data4 = data3[data3['Overtime']>0.5*data3['Salaries']]"
   ]
  },
  {
   "cell_type": "code",
   "execution_count": 29,
   "metadata": {
    "collapsed": true
   },
   "outputs": [],
   "source": [
    "aggregations1={'Total Benefits':'mean','Total Compensation':'mean'}"
   ]
  },
  {
   "cell_type": "code",
   "execution_count": 30,
   "metadata": {
    "collapsed": false
   },
   "outputs": [],
   "source": [
    "dataoutput2=data4.groupby('Job Family',as_index=False).agg(aggregations1)"
   ]
  },
  {
   "cell_type": "code",
   "execution_count": 31,
   "metadata": {
    "collapsed": true
   },
   "outputs": [],
   "source": [
    "dataoutput2['Percent_Total_Benefit']=(dataoutput2['Total Benefits']/dataoutput2['Total Compensation'])*100"
   ]
  },
  {
   "cell_type": "code",
   "execution_count": 32,
   "metadata": {
    "collapsed": true
   },
   "outputs": [],
   "source": [
    "dataoutput2.to_csv(outfile2)"
   ]
  },
  {
   "cell_type": "code",
   "execution_count": 35,
   "metadata": {
    "collapsed": false
   },
   "outputs": [
    {
     "data": {
      "text/html": [
       "<div>\n",
       "<table border=\"1\" class=\"dataframe\">\n",
       "  <thead>\n",
       "    <tr style=\"text-align: right;\">\n",
       "      <th></th>\n",
       "      <th>Job Family</th>\n",
       "      <th>Total Benefits</th>\n",
       "      <th>Total Compensation</th>\n",
       "      <th>Percent_Total_Benefit</th>\n",
       "    </tr>\n",
       "  </thead>\n",
       "  <tbody>\n",
       "    <tr>\n",
       "      <th>0</th>\n",
       "      <td>Administrative-Labor &amp; Trades</td>\n",
       "      <td>27672.545556</td>\n",
       "      <td>154626.281111</td>\n",
       "      <td>17.896405</td>\n",
       "    </tr>\n",
       "    <tr>\n",
       "      <th>1</th>\n",
       "      <td>Agriculture &amp; Horticulture</td>\n",
       "      <td>1153.720000</td>\n",
       "      <td>4893.210000</td>\n",
       "      <td>23.577978</td>\n",
       "    </tr>\n",
       "    <tr>\n",
       "      <th>2</th>\n",
       "      <td>Airport Operation</td>\n",
       "      <td>3.042174</td>\n",
       "      <td>42.430870</td>\n",
       "      <td>7.169719</td>\n",
       "    </tr>\n",
       "    <tr>\n",
       "      <th>3</th>\n",
       "      <td>Clerical, Secretarial &amp; Steno</td>\n",
       "      <td>828.546899</td>\n",
       "      <td>3783.820921</td>\n",
       "      <td>21.897096</td>\n",
       "    </tr>\n",
       "    <tr>\n",
       "      <th>4</th>\n",
       "      <td>Computer Operatns &amp; Repro Svcs</td>\n",
       "      <td>35118.797500</td>\n",
       "      <td>142298.042500</td>\n",
       "      <td>24.679747</td>\n",
       "    </tr>\n",
       "  </tbody>\n",
       "</table>\n",
       "</div>"
      ],
      "text/plain": [
       "                       Job Family  Total Benefits  Total Compensation  \\\n",
       "0   Administrative-Labor & Trades    27672.545556       154626.281111   \n",
       "1      Agriculture & Horticulture     1153.720000         4893.210000   \n",
       "2               Airport Operation        3.042174           42.430870   \n",
       "3   Clerical, Secretarial & Steno      828.546899         3783.820921   \n",
       "4  Computer Operatns & Repro Svcs    35118.797500       142298.042500   \n",
       "\n",
       "   Percent_Total_Benefit  \n",
       "0              17.896405  \n",
       "1              23.577978  \n",
       "2               7.169719  \n",
       "3              21.897096  \n",
       "4              24.679747  "
      ]
     },
     "execution_count": 35,
     "metadata": {},
     "output_type": "execute_result"
    }
   ],
   "source": [
    "dataoutput2.head()"
   ]
  }
 ],
 "metadata": {
  "anaconda-cloud": {},
  "kernelspec": {
   "display_name": "Python [default]",
   "language": "python",
   "name": "python3"
  },
  "language_info": {
   "codemirror_mode": {
    "name": "ipython",
    "version": 3
   },
   "file_extension": ".py",
   "mimetype": "text/x-python",
   "name": "python",
   "nbconvert_exporter": "python",
   "pygments_lexer": "ipython3",
   "version": "3.5.2"
  }
 },
 "nbformat": 4,
 "nbformat_minor": 0
}
