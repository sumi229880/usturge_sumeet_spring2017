{
 "cells": [
  {
   "cell_type": "markdown",
   "metadata": {},
   "source": [
    "# QUESTION 1-PART 2 "
   ]
  },
  {
   "cell_type": "code",
   "execution_count": 63,
   "metadata": {
    "collapsed": false
   },
   "outputs": [],
   "source": [
    "import pandas as pd\n",
    "from pandas import DataFrame, Series\n",
    "infile = 'Data/vehicle_collisions.csv'\n",
    "outfile1 = 'Data/vehicle_collisions_result_part1.csv'\n",
    "outfile2 = 'Data/vehicle_collisions_result_part2.csv'\n",
    "df = pd.read_csv(infile, parse_dates=[1])"
   ]
  },
  {
   "cell_type": "code",
   "execution_count": 64,
   "metadata": {
    "collapsed": false
   },
   "outputs": [],
   "source": [
    "#taking the records from 2016 and keeping required columns only\n",
    "mask = (df['DATE'] >= '2016-1-1') & (df['DATE'] <= '2016-12-31')\n",
    "frame = df.loc[mask]\n",
    "i = frame[['DATE','BOROUGH']]"
   ]
  },
  {
   "cell_type": "code",
   "execution_count": 65,
   "metadata": {
    "collapsed": false
   },
   "outputs": [],
   "source": [
    "#calculating the NYC column count\n",
    "nyc = i.groupby([i['DATE'].dt.month]).agg({'count'})\n",
    "n = nyc[nyc.columns[0]]"
   ]
  },
  {
   "cell_type": "code",
   "execution_count": 66,
   "metadata": {
    "collapsed": false
   },
   "outputs": [],
   "source": [
    "#calculating the Manhattan column count\n",
    "manhattan = i.groupby([i['DATE'].dt.month, i['BOROUGH'] == 'MANHATTAN'], as_index=True ).agg({'count'}).unstack()\n",
    "m = manhattan[manhattan.columns[1]]"
   ]
  },
  {
   "cell_type": "code",
   "execution_count": 67,
   "metadata": {
    "collapsed": false
   },
   "outputs": [
    {
     "data": {
      "text/html": [
       "<div>\n",
       "<table border=\"1\" class=\"dataframe\">\n",
       "  <thead>\n",
       "    <tr style=\"text-align: right;\">\n",
       "      <th></th>\n",
       "      <th>MANHATTAN</th>\n",
       "      <th>NYC</th>\n",
       "      <th>PERCENTAGE</th>\n",
       "    </tr>\n",
       "    <tr>\n",
       "      <th>MONTH</th>\n",
       "      <th></th>\n",
       "      <th></th>\n",
       "      <th></th>\n",
       "    </tr>\n",
       "  </thead>\n",
       "  <tbody>\n",
       "    <tr>\n",
       "      <th>Jan</th>\n",
       "      <td>3178</td>\n",
       "      <td>18101</td>\n",
       "      <td>0.175570</td>\n",
       "    </tr>\n",
       "    <tr>\n",
       "      <th>Feb</th>\n",
       "      <td>3195</td>\n",
       "      <td>15985</td>\n",
       "      <td>0.199875</td>\n",
       "    </tr>\n",
       "    <tr>\n",
       "      <th>Mar</th>\n",
       "      <td>3479</td>\n",
       "      <td>18471</td>\n",
       "      <td>0.188349</td>\n",
       "    </tr>\n",
       "    <tr>\n",
       "      <th>Apr</th>\n",
       "      <td>3540</td>\n",
       "      <td>18331</td>\n",
       "      <td>0.193115</td>\n",
       "    </tr>\n",
       "    <tr>\n",
       "      <th>May</th>\n",
       "      <td>3432</td>\n",
       "      <td>20052</td>\n",
       "      <td>0.171155</td>\n",
       "    </tr>\n",
       "  </tbody>\n",
       "</table>\n",
       "</div>"
      ],
      "text/plain": [
       "       MANHATTAN    NYC  PERCENTAGE\n",
       "MONTH                              \n",
       "Jan         3178  18101    0.175570\n",
       "Feb         3195  15985    0.199875\n",
       "Mar         3479  18471    0.188349\n",
       "Apr         3540  18331    0.193115\n",
       "May         3432  20052    0.171155"
      ]
     },
     "execution_count": 67,
     "metadata": {},
     "output_type": "execute_result"
    }
   ],
   "source": [
    "#formating the output in desired format\n",
    "output_1 = DataFrame()\n",
    "output_1['MANHATTAN'] = m\n",
    "output_1['NYC'] = n\n",
    "output_1['PERCENTAGE'] = (m/n)\n",
    "output_1['MONTH'] = values=['Jan','Feb', 'Mar','Apr','May','Jun','Jul','Aug','Sep','Oct','Nov','Dec']\n",
    "output_1.set_index('MONTH', inplace=True)\n",
    "output_1.head()"
   ]
  },
  {
   "cell_type": "code",
   "execution_count": 68,
   "metadata": {
    "collapsed": true
   },
   "outputs": [],
   "source": [
    "#saving the result in csv file\n",
    "output_1.to_csv(outfile1)"
   ]
  },
  {
   "cell_type": "markdown",
   "metadata": {
    "collapsed": true
   },
   "source": [
    "# QUESTION 1-PART 2 "
   ]
  },
  {
   "cell_type": "code",
   "execution_count": 69,
   "metadata": {
    "collapsed": true
   },
   "outputs": [
    {
     "name": "stderr",
     "output_type": "stream",
     "text": [
      "C:\\Users\\Sumeet\\Anaconda3\\lib\\site-packages\\pandas\\core\\indexing.py:141: SettingWithCopyWarning: \n",
      "A value is trying to be set on a copy of a slice from a DataFrame\n",
      "\n",
      "See the caveats in the documentation: http://pandas.pydata.org/pandas-docs/stable/indexing.html#indexing-view-versus-copy\n",
      "  self._setitem_with_indexer(indexer, value)\n",
      "C:\\Users\\Sumeet\\Anaconda3\\lib\\site-packages\\ipykernel\\__main__.py:3: SettingWithCopyWarning: \n",
      "A value is trying to be set on a copy of a slice from a DataFrame\n",
      "\n",
      "See the caveats in the documentation: http://pandas.pydata.org/pandas-docs/stable/indexing.html#indexing-view-versus-copy\n",
      "  app.launch_new_instance()\n",
      "C:\\Users\\Sumeet\\Anaconda3\\lib\\site-packages\\ipykernel\\__main__.py:4: SettingWithCopyWarning: \n",
      "A value is trying to be set on a copy of a slice from a DataFrame\n",
      "\n",
      "See the caveats in the documentation: http://pandas.pydata.org/pandas-docs/stable/indexing.html#indexing-view-versus-copy\n",
      "C:\\Users\\Sumeet\\Anaconda3\\lib\\site-packages\\ipykernel\\__main__.py:5: SettingWithCopyWarning: \n",
      "A value is trying to be set on a copy of a slice from a DataFrame\n",
      "\n",
      "See the caveats in the documentation: http://pandas.pydata.org/pandas-docs/stable/indexing.html#indexing-view-versus-copy\n",
      "C:\\Users\\Sumeet\\Anaconda3\\lib\\site-packages\\ipykernel\\__main__.py:6: SettingWithCopyWarning: \n",
      "A value is trying to be set on a copy of a slice from a DataFrame\n",
      "\n",
      "See the caveats in the documentation: http://pandas.pydata.org/pandas-docs/stable/indexing.html#indexing-view-versus-copy\n",
      "C:\\Users\\Sumeet\\Anaconda3\\lib\\site-packages\\ipykernel\\__main__.py:7: SettingWithCopyWarning: \n",
      "A value is trying to be set on a copy of a slice from a DataFrame.\n",
      "Try using .loc[row_indexer,col_indexer] = value instead\n",
      "\n",
      "See the caveats in the documentation: http://pandas.pydata.org/pandas-docs/stable/indexing.html#indexing-view-versus-copy\n"
     ]
    }
   ],
   "source": [
    "# taking only those columns that are required and replacing notnull cells with value 1 and calculating total across\n",
    "part2 = df[['BOROUGH', 'VEHICLE 1 TYPE', 'VEHICLE 2 TYPE', 'VEHICLE 3 TYPE', 'VEHICLE 4 TYPE','VEHICLE 5 TYPE']]\n",
    "part2.loc[part2['VEHICLE 1 TYPE'].notnull(), 'VEHICLE 1 TYPE'] = 1\n",
    "part2.loc[part2['VEHICLE 2 TYPE'].notnull(), 'VEHICLE 2 TYPE'] = 1\n",
    "part2.loc[part2['VEHICLE 3 TYPE'].notnull(), 'VEHICLE 3 TYPE'] = 1\n",
    "part2.loc[part2['VEHICLE 4 TYPE'].notnull(), 'VEHICLE 4 TYPE'] = 1\n",
    "part2['TOTAL'] = part2.drop(['BOROUGH'], axis=1).count(axis=1)\n",
    "\n"
   ]
  },
  {
   "cell_type": "code",
   "execution_count": 70,
   "metadata": {
    "collapsed": false,
    "scrolled": false
   },
   "outputs": [],
   "source": [
    "# Grouping by borough and saving the result in the desired format\n",
    "y = part2.groupby(['BOROUGH','TOTAL']).size()\n",
    "u = DataFrame(y)\n",
    "out = u.unstack()\n",
    "output_2 = DataFrame()\n",
    "output_2['ONE_VECHICLE_INVOLVED'] = out[0,1]\n",
    "output_2['TWO_VECHICLE_INVOLVED'] = out[0,2]\n",
    "output_2['THREE_VECHICLE_INVOLVED'] = out[0,3]\n",
    "output_2['MORE_VECHICLE_INVOLVED'] = out[0,0] + out[0,4] + out[0,5]"
   ]
  },
  {
   "cell_type": "code",
   "execution_count": 72,
   "metadata": {
    "collapsed": false
   },
   "outputs": [
    {
     "data": {
      "text/html": [
       "<div>\n",
       "<table border=\"1\" class=\"dataframe\">\n",
       "  <thead>\n",
       "    <tr style=\"text-align: right;\">\n",
       "      <th></th>\n",
       "      <th>ONE_VECHICLE_INVOLVED</th>\n",
       "      <th>TWO_VECHICLE_INVOLVED</th>\n",
       "      <th>THREE_VECHICLE_INVOLVED</th>\n",
       "      <th>MORE_VECHICLE_INVOLVED</th>\n",
       "    </tr>\n",
       "    <tr>\n",
       "      <th>BOROUGH</th>\n",
       "      <th></th>\n",
       "      <th></th>\n",
       "      <th></th>\n",
       "      <th></th>\n",
       "    </tr>\n",
       "  </thead>\n",
       "  <tbody>\n",
       "    <tr>\n",
       "      <th>BRONX</th>\n",
       "      <td>8627</td>\n",
       "      <td>34385</td>\n",
       "      <td>1962</td>\n",
       "      <td>1150</td>\n",
       "    </tr>\n",
       "    <tr>\n",
       "      <th>BROOKLYN</th>\n",
       "      <td>17375</td>\n",
       "      <td>80207</td>\n",
       "      <td>4980</td>\n",
       "      <td>2399</td>\n",
       "    </tr>\n",
       "    <tr>\n",
       "      <th>MANHATTAN</th>\n",
       "      <td>13318</td>\n",
       "      <td>66958</td>\n",
       "      <td>2024</td>\n",
       "      <td>1302</td>\n",
       "    </tr>\n",
       "    <tr>\n",
       "      <th>QUEENS</th>\n",
       "      <td>12962</td>\n",
       "      <td>70260</td>\n",
       "      <td>4498</td>\n",
       "      <td>1935</td>\n",
       "    </tr>\n",
       "    <tr>\n",
       "      <th>STATEN ISLAND</th>\n",
       "      <td>2343</td>\n",
       "      <td>10676</td>\n",
       "      <td>759</td>\n",
       "      <td>270</td>\n",
       "    </tr>\n",
       "  </tbody>\n",
       "</table>\n",
       "</div>"
      ],
      "text/plain": [
       "               ONE_VECHICLE_INVOLVED  TWO_VECHICLE_INVOLVED  \\\n",
       "BOROUGH                                                       \n",
       "BRONX                           8627                  34385   \n",
       "BROOKLYN                       17375                  80207   \n",
       "MANHATTAN                      13318                  66958   \n",
       "QUEENS                         12962                  70260   \n",
       "STATEN ISLAND                   2343                  10676   \n",
       "\n",
       "               THREE_VECHICLE_INVOLVED  MORE_VECHICLE_INVOLVED  \n",
       "BOROUGH                                                         \n",
       "BRONX                             1962                    1150  \n",
       "BROOKLYN                          4980                    2399  \n",
       "MANHATTAN                         2024                    1302  \n",
       "QUEENS                            4498                    1935  \n",
       "STATEN ISLAND                      759                     270  "
      ]
     },
     "execution_count": 72,
     "metadata": {},
     "output_type": "execute_result"
    }
   ],
   "source": [
    "# Saving the result in csv file\n",
    "output_2.to_csv(outfile2)\n",
    "output_2 "
   ]
  }
 ],
 "metadata": {
  "anaconda-cloud": {},
  "kernelspec": {
   "display_name": "Python [conda root]",
   "language": "python",
   "name": "conda-root-py"
  },
  "language_info": {
   "codemirror_mode": {
    "name": "ipython",
    "version": 3
   },
   "file_extension": ".py",
   "mimetype": "text/x-python",
   "name": "python",
   "nbconvert_exporter": "python",
   "pygments_lexer": "ipython3",
   "version": "3.5.2"
  }
 },
 "nbformat": 4,
 "nbformat_minor": 1
}
