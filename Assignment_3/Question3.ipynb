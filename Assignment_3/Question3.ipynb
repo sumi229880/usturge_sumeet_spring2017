{
 "cells": [
  {
   "cell_type": "markdown",
   "metadata": {},
   "source": [
    "# Question 3"
   ]
  },
  {
   "cell_type": "code",
   "execution_count": 25,
   "metadata": {
    "collapsed": true
   },
   "outputs": [],
   "source": [
    "import pandas as pd\n",
    "infile = 'Data/cricket_matches.csv'\n",
    "outfile = 'Data/cricket_match_result.csv'\n",
    "df = pd.read_csv(infile)"
   ]
  },
  {
   "cell_type": "code",
   "execution_count": 26,
   "metadata": {
    "collapsed": false,
    "scrolled": false
   },
   "outputs": [
    {
     "data": {
      "text/html": [
       "<div>\n",
       "<table border=\"1\" class=\"dataframe\">\n",
       "  <thead>\n",
       "    <tr style=\"text-align: right;\">\n",
       "      <th></th>\n",
       "      <th>Scores</th>\n",
       "    </tr>\n",
       "    <tr>\n",
       "      <th>home</th>\n",
       "      <th></th>\n",
       "    </tr>\n",
       "  </thead>\n",
       "  <tbody>\n",
       "    <tr>\n",
       "      <th>Abahani Limited</th>\n",
       "      <td>172.000000</td>\n",
       "    </tr>\n",
       "    <tr>\n",
       "      <th>Abbottabad Falcons</th>\n",
       "      <td>139.454545</td>\n",
       "    </tr>\n",
       "    <tr>\n",
       "      <th>Abbottabad Region</th>\n",
       "      <td>182.666667</td>\n",
       "    </tr>\n",
       "    <tr>\n",
       "      <th>Abbottabad Rhinos</th>\n",
       "      <td>165.000000</td>\n",
       "    </tr>\n",
       "    <tr>\n",
       "      <th>Adelaide Strikers</th>\n",
       "      <td>163.111111</td>\n",
       "    </tr>\n",
       "  </tbody>\n",
       "</table>\n",
       "</div>"
      ],
      "text/plain": [
       "                        Scores\n",
       "home                          \n",
       "Abahani Limited     172.000000\n",
       "Abbottabad Falcons  139.454545\n",
       "Abbottabad Region   182.666667\n",
       "Abbottabad Rhinos   165.000000\n",
       "Adelaide Strikers   163.111111"
      ]
     },
     "execution_count": 26,
     "metadata": {},
     "output_type": "execute_result"
    }
   ],
   "source": [
    "#filtering the required columns and calculating the scores of the team who won in their home ground\n",
    "filtered_df = df[['home','winner','innings1','innings1_runs','innings2','innings2_runs']]\n",
    "sorted_home_df = filtered_df.sort_values(by=['home'])\n",
    "sorted_home_df.loc[sorted_home_df.home == sorted_home_df.innings1, 'Scores'] = sorted_home_df.innings1_runs\n",
    "sorted_home_df.loc[sorted_home_df.home != sorted_home_df.innings1, 'Scores'] = sorted_home_df.innings2_runs\n",
    "sorted_home_df.loc[sorted_home_df.home != sorted_home_df.winner, 'Scores'] = 0\n",
    "\n",
    "#Grouping by the team and calculating the average socres they scored\n",
    "output = sorted_home_df[sorted_home_df.Scores != 0]\n",
    "req_output = output[['home','Scores']]\n",
    "output_avg = req_output.groupby('home').mean()\n",
    "output_avg.head()"
   ]
  },
  {
   "cell_type": "code",
   "execution_count": 27,
   "metadata": {
    "collapsed": false
   },
   "outputs": [],
   "source": [
    "#saving the result in the csv file\n",
    "output_avg.to_csv(outfile)\n"
   ]
  }
 ],
 "metadata": {
  "anaconda-cloud": {},
  "kernelspec": {
   "display_name": "Python [conda root]",
   "language": "python",
   "name": "conda-root-py"
  },
  "language_info": {
   "codemirror_mode": {
    "name": "ipython",
    "version": 3
   },
   "file_extension": ".py",
   "mimetype": "text/x-python",
   "name": "python",
   "nbconvert_exporter": "python",
   "pygments_lexer": "ipython3",
   "version": "3.5.2"
  }
 },
 "nbformat": 4,
 "nbformat_minor": 1
}
